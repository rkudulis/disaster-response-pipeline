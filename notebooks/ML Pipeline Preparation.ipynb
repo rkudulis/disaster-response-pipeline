{
 "cells": [
  {
   "cell_type": "markdown",
   "metadata": {},
   "source": [
    "# ML Pipeline Preparation\n",
    "Follow the instructions below to help you create your ML pipeline.\n",
    "### 1. Import libraries and load data from database.\n",
    "- Import Python libraries\n",
    "- Load dataset from database with [`read_sql_table`](https://pandas.pydata.org/pandas-docs/stable/generated/pandas.read_sql_table.html)\n",
    "- Define feature and target variables X and Y"
   ]
  },
  {
   "cell_type": "code",
   "execution_count": 198,
   "metadata": {
    "tags": []
   },
   "outputs": [
    {
     "name": "stderr",
     "output_type": "stream",
     "text": [
      "[nltk_data] Downloading package punkt to /home/wefo/nltk_data...\n",
      "[nltk_data]   Package punkt is already up-to-date!\n",
      "[nltk_data] Downloading package stopwords to /home/wefo/nltk_data...\n",
      "[nltk_data]   Package stopwords is already up-to-date!\n",
      "[nltk_data] Downloading package wordnet to /home/wefo/nltk_data...\n",
      "[nltk_data]   Package wordnet is already up-to-date!\n",
      "[nltk_data] Downloading package maxent_ne_chunker to\n",
      "[nltk_data]     /home/wefo/nltk_data...\n",
      "[nltk_data]   Package maxent_ne_chunker is already up-to-date!\n",
      "[nltk_data] Downloading package averaged_perceptron_tagger to\n",
      "[nltk_data]     /home/wefo/nltk_data...\n",
      "[nltk_data]   Package averaged_perceptron_tagger is already up-to-\n",
      "[nltk_data]       date!\n",
      "[nltk_data] Downloading package words to /home/wefo/nltk_data...\n",
      "[nltk_data]   Package words is already up-to-date!\n"
     ]
    }
   ],
   "source": [
    "# import libraries\n",
    "import pandas as pd\n",
    "import numpy as np\n",
    "import re\n",
    "from sqlalchemy import create_engine\n",
    "import pickle\n",
    "\n",
    "import nltk\n",
    "from nltk.stem.wordnet import WordNetLemmatizer\n",
    "from nltk import word_tokenize, ne_chunk, pos_tag, sent_tokenize\n",
    "from nltk.corpus import stopwords\n",
    "\n",
    "nltk.download('punkt')\n",
    "nltk.download('stopwords')\n",
    "nltk.download('wordnet')\n",
    "nltk.download('maxent_ne_chunker')\n",
    "nltk.download('averaged_perceptron_tagger')\n",
    "nltk.download('words')\n",
    "\n",
    "from sklearn.model_selection import train_test_split, GridSearchCV\n",
    "from sklearn.multioutput import MultiOutputClassifier\n",
    "from sklearn.neighbors import KNeighborsClassifier\n",
    "from sklearn.ensemble import RandomForestClassifier, AdaBoostClassifier\n",
    "from sklearn.pipeline import Pipeline\n",
    "from sklearn.metrics import classification_report, f1_score, confusion_matrix, precision_score, recall_score, make_scorer\n",
    "\n",
    "from sklearn.feature_extraction.text import CountVectorizer, TfidfTransformer\n",
    "\n",
    "import xgboost as xgb\n",
    "from xgboost import XGBClassifier"
   ]
  },
  {
   "cell_type": "code",
   "execution_count": 25,
   "metadata": {
    "tags": []
   },
   "outputs": [],
   "source": [
    "# load data from database\n",
    "engine = create_engine('sqlite:///sql_database.db')\n",
    "df = pd.read_sql(\"SELECT * FROM cleaned_data\", engine)\n",
    "X = df['message']\n",
    "Y = df.iloc[:,4:]"
   ]
  },
  {
   "cell_type": "markdown",
   "metadata": {},
   "source": [
    "### 2. Write a tokenization function to process your text data"
   ]
  },
  {
   "cell_type": "code",
   "execution_count": 113,
   "metadata": {},
   "outputs": [],
   "source": [
    "stop_words = stopwords.words('english')\n",
    "\n",
    "def tokenize(text):\n",
    "    # normalize case and remove punctuation\n",
    "    text = re.sub(r\"[^a-zA-Z0-9]\", \" \", text.lower())\n",
    "    \n",
    "    # tokenize text\n",
    "    tokens = word_tokenize(text)\n",
    "    \n",
    "    # lemmatize andremove stop words\n",
    "    tokens = [WordNetLemmatizer().lemmatize(word) for word in tokens if word not in stop_words]\n",
    "\n",
    "    return tokens"
   ]
  },
  {
   "cell_type": "markdown",
   "metadata": {},
   "source": [
    "### 3. Build a machine learning pipeline\n",
    "This machine pipeline should take in the `message` column as input and output classification results on the other 36 categories in the dataset. You may find the [MultiOutputClassifier](http://scikit-learn.org/stable/modules/generated/sklearn.multioutput.MultiOutputClassifier.html) helpful for predicting multiple target variables."
   ]
  },
  {
   "cell_type": "code",
   "execution_count": 177,
   "metadata": {},
   "outputs": [],
   "source": [
    "pipeline = Pipeline([\n",
    "    ('tokenizer', CountVectorizer(tokenizer=tokenize)),\n",
    "    ('tfidf', TfidfTransformer()),\n",
    "    ('clf', MultiOutputClassifier(RandomForestClassifier()))\n",
    "])"
   ]
  },
  {
   "cell_type": "markdown",
   "metadata": {},
   "source": [
    "### 4. Train pipeline\n",
    "- Split data into train and test sets\n",
    "- Train pipeline"
   ]
  },
  {
   "cell_type": "code",
   "execution_count": 64,
   "metadata": {},
   "outputs": [],
   "source": [
    "X_train, X_test, y_train, y_test = train_test_split(X, Y, random_state=42)"
   ]
  },
  {
   "cell_type": "code",
   "execution_count": 65,
   "metadata": {},
   "outputs": [
    {
     "data": {
      "text/plain": [
       "Pipeline(steps=[('tokenizer',\n",
       "                 CountVectorizer(tokenizer=<function tokenize at 0x7f9bae973c20>)),\n",
       "                ('tfidf', TfidfTransformer()),\n",
       "                ('clf',\n",
       "                 MultiOutputClassifier(estimator=RandomForestClassifier(class_weight='balanced',\n",
       "                                                                        max_depth=5)))])"
      ]
     },
     "execution_count": 65,
     "metadata": {},
     "output_type": "execute_result"
    }
   ],
   "source": [
    "pipeline.fit(X_train, y_train)"
   ]
  },
  {
   "cell_type": "markdown",
   "metadata": {},
   "source": [
    "### 5. Test your model\n",
    "Report the f1 score, precision and recall for each output category of the dataset. You can do this by iterating through the columns and calling sklearn's `classification_report` on each."
   ]
  },
  {
   "cell_type": "code",
   "execution_count": 66,
   "metadata": {},
   "outputs": [],
   "source": [
    "preds = pipeline.predict(X_test)"
   ]
  },
  {
   "cell_type": "code",
   "execution_count": 207,
   "metadata": {},
   "outputs": [],
   "source": [
    "pred = pd.DataFrame(preds, columns=y_train.columns, index=X_test.index)"
   ]
  },
  {
   "cell_type": "code",
   "execution_count": 237,
   "metadata": {
    "tags": []
   },
   "outputs": [],
   "source": [
    "def classiffier_report(y_true, y_pred, average='weighted'):\n",
    "    results = pd.DataFrame(index=y_true.columns, columns=['precision','recall','f1-score'])\n",
    "    results_fmt = \"{:<22} Precision: {:.3f}   Recall: {:.3f}   F1-score: {:.3f}\"\n",
    "    for col in y_test.columns:\n",
    "        res = [ col.upper(),\n",
    "               precision_score(y_true[col], y_pred[col], average=average),\n",
    "               recall_score(y_true[col], y_pred[col], average=average),\n",
    "               f1_score(y_true[col], y_pred[col], average=average)]\n",
    "        print(results_fmt.format(*res))"
   ]
  },
  {
   "cell_type": "code",
   "execution_count": 239,
   "metadata": {},
   "outputs": [
    {
     "name": "stdout",
     "output_type": "stream",
     "text": [
      "RELATED                Precision: 0.785   Recall: 0.659   F1-score: 0.684\n",
      "REQUEST                Precision: 0.875   Recall: 0.864   F1-score: 0.868\n",
      "OFFER                  Precision: 0.990   Recall: 0.986   F1-score: 0.988\n",
      "AID_RELATED            Precision: 0.749   Recall: 0.751   F1-score: 0.749\n",
      "MEDICAL_HELP           Precision: 0.909   Recall: 0.889   F1-score: 0.897\n",
      "MEDICAL_PRODUCTS       Precision: 0.941   Recall: 0.904   F1-score: 0.919\n",
      "SEARCH_AND_RESCUE      Precision: 0.963   Recall: 0.927   F1-score: 0.943\n",
      "SECURITY               Precision: 0.970   Recall: 0.966   F1-score: 0.968\n",
      "MILITARY               Precision: 0.965   Recall: 0.940   F1-score: 0.951\n",
      "CHILD_ALONE            Precision: 1.000   Recall: 1.000   F1-score: 1.000\n",
      "WATER                  Precision: 0.958   Recall: 0.938   F1-score: 0.945\n",
      "FOOD                   Precision: 0.924   Recall: 0.910   F1-score: 0.915\n",
      "SHELTER                Precision: 0.927   Recall: 0.906   F1-score: 0.914\n",
      "CLOTHING               Precision: 0.983   Recall: 0.976   F1-score: 0.979\n",
      "MONEY                  Precision: 0.974   Recall: 0.951   F1-score: 0.961\n",
      "MISSING_PEOPLE         Precision: 0.983   Recall: 0.982   F1-score: 0.982\n",
      "REFUGEES               Precision: 0.959   Recall: 0.916   F1-score: 0.934\n",
      "DEATH                  Precision: 0.948   Recall: 0.928   F1-score: 0.937\n",
      "OTHER_AID              Precision: 0.844   Recall: 0.790   F1-score: 0.811\n",
      "INFRASTRUCTURE_RELATED Precision: 0.915   Recall: 0.826   F1-score: 0.862\n",
      "TRANSPORT              Precision: 0.939   Recall: 0.910   F1-score: 0.923\n",
      "BUILDINGS              Precision: 0.950   Recall: 0.930   F1-score: 0.938\n",
      "ELECTRICITY            Precision: 0.972   Recall: 0.969   F1-score: 0.970\n",
      "TOOLS                  Precision: 0.987   Recall: 0.992   F1-score: 0.990\n",
      "HOSPITALS              Precision: 0.986   Recall: 0.974   F1-score: 0.980\n",
      "SHOPS                  Precision: 0.993   Recall: 0.996   F1-score: 0.994\n",
      "AID_CENTERS            Precision: 0.979   Recall: 0.972   F1-score: 0.976\n",
      "OTHER_INFRASTRUCTURE   Precision: 0.936   Recall: 0.871   F1-score: 0.899\n",
      "WEATHER_RELATED        Precision: 0.836   Recall: 0.838   F1-score: 0.837\n",
      "FLOODS                 Precision: 0.926   Recall: 0.891   F1-score: 0.904\n",
      "STORM                  Precision: 0.916   Recall: 0.897   F1-score: 0.905\n",
      "FIRE                   Precision: 0.985   Recall: 0.986   F1-score: 0.985\n",
      "EARTHQUAKE             Precision: 0.924   Recall: 0.921   F1-score: 0.922\n",
      "COLD                   Precision: 0.977   Recall: 0.966   F1-score: 0.971\n",
      "OTHER_WEATHER          Precision: 0.935   Recall: 0.876   F1-score: 0.900\n",
      "DIRECT_REPORT          Precision: 0.809   Recall: 0.785   F1-score: 0.795\n"
     ]
    }
   ],
   "source": [
    "classiffier_report(y_test, rf_preds)"
   ]
  },
  {
   "cell_type": "markdown",
   "metadata": {},
   "source": [
    "### 6. Improve your model\n",
    "Use grid search to find better parameters. "
   ]
  },
  {
   "cell_type": "code",
   "execution_count": 199,
   "metadata": {},
   "outputs": [
    {
     "data": {
      "text/plain": [
       "GridSearchCV(estimator=Pipeline(steps=[('tokenizer',\n",
       "                                        CountVectorizer(tokenizer=<function tokenize at 0x7f9b8209ad40>)),\n",
       "                                       ('tfidf', TfidfTransformer()),\n",
       "                                       ('clf',\n",
       "                                        MultiOutputClassifier(estimator=RandomForestClassifier()))]),\n",
       "             param_grid=[{'clf__estimator': [RandomForestClassifier()],\n",
       "                          'clf__estimator__class_weight': [None, 'balanced'],\n",
       "                          'clf__estimator__max_depth': [1, 5],\n",
       "                          'clf__estimator__n_estimators': [10, 20]},\n",
       "                         {'clf__estimator': [AdaBoostClassifier(n_estimators=20)],\n",
       "                          'clf__estimator__n_estimators': [10, 20]}],\n",
       "             scoring=make_scorer(custom_f1_score))"
      ]
     },
     "execution_count": 199,
     "metadata": {},
     "output_type": "execute_result"
    }
   ],
   "source": [
    "def custom_f1_score(y_true, y_pred):\n",
    "    if isinstance(y_true, pd.DataFrame):\n",
    "        y_true = y_true.values\n",
    "    diffs = []\n",
    "    for col in range(y_true.shape[1]):\n",
    "        err = f1_score(y_true[:,col], y_pred[:,col], average='weighted')\n",
    "        diffs.append(err)\n",
    "    return np.mean(diffs)\n",
    "    \n",
    "\n",
    "\n",
    "parameters = [\n",
    "    {\n",
    "        'clf__estimator': [RandomForestClassifier()],\n",
    "        'clf__estimator__n_estimators': [10, 20],\n",
    "        'clf__estimator__max_depth': [1, 5],\n",
    "        'clf__estimator__class_weight': [None, 'balanced']\n",
    "    },\n",
    "    {\n",
    "        'clf__estimator': [AdaBoostClassifier()],\n",
    "        'clf__estimator__n_estimators': [10, 20],\n",
    "    }\n",
    "\n",
    "]\n",
    "\n",
    "scoring = make_scorer(custom_f1_score, greater_is_better=True)\n",
    "\n",
    "cv = GridSearchCV(pipeline, parameters, scoring=scoring)\n",
    "\n",
    "cv.fit(X_train, y_train)"
   ]
  },
  {
   "cell_type": "code",
   "execution_count": 200,
   "metadata": {},
   "outputs": [
    {
     "data": {
      "text/plain": [
       "{'clf__estimator': AdaBoostClassifier(n_estimators=20),\n",
       " 'clf__estimator__n_estimators': 20}"
      ]
     },
     "execution_count": 200,
     "metadata": {},
     "output_type": "execute_result"
    }
   ],
   "source": [
    "cv.best_params_"
   ]
  },
  {
   "cell_type": "markdown",
   "metadata": {},
   "source": [
    "### 7. Test your model\n",
    "Show the accuracy, precision, and recall of the tuned model.  \n",
    "\n",
    "Since this project focuses on code quality, process, and  pipelines, there is no minimum performance metric needed to pass. However, make sure to fine tune your models for accuracy, precision and recall to make your project stand out - especially for your portfolio!"
   ]
  },
  {
   "cell_type": "code",
   "execution_count": 201,
   "metadata": {},
   "outputs": [],
   "source": [
    "y_pred = cv.predict(X_test)"
   ]
  },
  {
   "cell_type": "code",
   "execution_count": 202,
   "metadata": {},
   "outputs": [],
   "source": [
    "y_pred_df = pd.DataFrame(y_pred, columns=y_test.columns, index=X_test.index)"
   ]
  },
  {
   "cell_type": "code",
   "execution_count": 241,
   "metadata": {},
   "outputs": [],
   "source": [
    "first_model_results"
   ]
  },
  {
   "cell_type": "code",
   "execution_count": 242,
   "metadata": {
    "tags": []
   },
   "outputs": [
    {
     "name": "stdout",
     "output_type": "stream",
     "text": [
      "RELATED                Precision: 0.772   Recall: 0.764   F1-score: 0.675\n",
      "REQUEST                Precision: 0.874   Recall: 0.883   F1-score: 0.870\n",
      "OFFER                  Precision: 0.990   Recall: 0.994   F1-score: 0.992\n",
      "AID_RELATED            Precision: 0.738   Recall: 0.737   F1-score: 0.729\n",
      "MEDICAL_HELP           Precision: 0.904   Recall: 0.922   F1-score: 0.906\n",
      "MEDICAL_PRODUCTS       Precision: 0.948   Recall: 0.956   F1-score: 0.948\n",
      "SEARCH_AND_RESCUE      Precision: 0.970   Recall: 0.977   F1-score: 0.970\n",
      "SECURITY               Precision: 0.967   Recall: 0.980   F1-score: 0.973\n",
      "MILITARY               Precision: 0.964   Recall: 0.971   F1-score: 0.966\n",
      "CHILD_ALONE            Precision: 1.000   Recall: 1.000   F1-score: 1.000\n",
      "WATER                  Precision: 0.962   Recall: 0.965   F1-score: 0.963\n",
      "FOOD                   Precision: 0.933   Recall: 0.937   F1-score: 0.930\n",
      "SHELTER                Precision: 0.939   Recall: 0.945   F1-score: 0.940\n",
      "CLOTHING               Precision: 0.988   Recall: 0.990   F1-score: 0.988\n",
      "MONEY                  Precision: 0.974   Recall: 0.979   F1-score: 0.976\n",
      "MISSING_PEOPLE         Precision: 0.988   Recall: 0.990   F1-score: 0.987\n",
      "REFUGEES               Precision: 0.962   Recall: 0.969   F1-score: 0.964\n",
      "DEATH                  Precision: 0.965   Recall: 0.969   F1-score: 0.963\n",
      "OTHER_AID              Precision: 0.830   Recall: 0.869   F1-score: 0.829\n",
      "INFRASTRUCTURE_RELATED Precision: 0.914   Recall: 0.937   F1-score: 0.916\n",
      "TRANSPORT              Precision: 0.954   Recall: 0.960   F1-score: 0.947\n",
      "BUILDINGS              Precision: 0.957   Recall: 0.962   F1-score: 0.956\n",
      "ELECTRICITY            Precision: 0.975   Recall: 0.980   F1-score: 0.974\n",
      "TOOLS                  Precision: 0.987   Recall: 0.993   F1-score: 0.990\n",
      "HOSPITALS              Precision: 0.988   Recall: 0.991   F1-score: 0.989\n",
      "SHOPS                  Precision: 0.993   Recall: 0.996   F1-score: 0.994\n",
      "AID_CENTERS            Precision: 0.979   Recall: 0.986   F1-score: 0.982\n",
      "OTHER_INFRASTRUCTURE   Precision: 0.937   Recall: 0.956   F1-score: 0.941\n",
      "WEATHER_RELATED        Precision: 0.868   Recall: 0.868   F1-score: 0.861\n",
      "FLOODS                 Precision: 0.955   Recall: 0.958   F1-score: 0.954\n",
      "STORM                  Precision: 0.926   Recall: 0.934   F1-score: 0.925\n",
      "FIRE                   Precision: 0.988   Recall: 0.991   F1-score: 0.988\n",
      "EARTHQUAKE             Precision: 0.972   Recall: 0.973   F1-score: 0.972\n",
      "COLD                   Precision: 0.980   Recall: 0.983   F1-score: 0.979\n",
      "OTHER_WEATHER          Precision: 0.926   Recall: 0.947   F1-score: 0.930\n",
      "DIRECT_REPORT          Precision: 0.824   Recall: 0.841   F1-score: 0.823\n"
     ]
    }
   ],
   "source": [
    "classiffier_report(y_test, y_pred_df)"
   ]
  },
  {
   "cell_type": "markdown",
   "metadata": {},
   "source": [
    "### 9. Export your model as a pickle file"
   ]
  },
  {
   "cell_type": "code",
   "execution_count": 185,
   "metadata": {},
   "outputs": [],
   "source": [
    "# Save to file in the current working directory\n",
    "pkl_filename = \"final_model.pkl\"\n",
    "with open(pkl_filename, 'wb') as file:\n",
    "    pickle.dump(cv, file)"
   ]
  },
  {
   "cell_type": "markdown",
   "metadata": {},
   "source": [
    "### 10. Use this notebook to complete `train.py`\n",
    "Use the template file attached in the Resources folder to write a script that runs the steps above to create a database and export a model based on a new dataset specified by the user."
   ]
  },
  {
   "cell_type": "code",
   "execution_count": null,
   "metadata": {},
   "outputs": [],
   "source": []
  }
 ],
 "metadata": {
  "kernelspec": {
   "display_name": "Python 3",
   "language": "python",
   "name": "python3"
  },
  "language_info": {
   "codemirror_mode": {
    "name": "ipython",
    "version": 3
   },
   "file_extension": ".py",
   "mimetype": "text/x-python",
   "name": "python",
   "nbconvert_exporter": "python",
   "pygments_lexer": "ipython3",
   "version": "3.7.7"
  }
 },
 "nbformat": 4,
 "nbformat_minor": 4
}
